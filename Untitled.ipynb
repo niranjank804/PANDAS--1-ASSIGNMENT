{
 "cells": [
  {
   "cell_type": "markdown",
   "metadata": {},
   "source": [
    "1) How-to-count-distance-to-the-previous-zero For each value, count the difference of the distance from the previous zero (or the start of the Series, whichever is closer) and if there are no previous zeros,print the position Consider a DataFrame df where there is an integer column {'X':[7, 2, 0, 3, 4, 2, 5, 0, 3, 4]} The values should therefore be [1, 2, 0, 1, 2, 3, 4, 0, 1, 2]. Make this a new column 'Y'. import pandas as pd df = pd.DataFrame({'X': [7, 2, 0, 3, 4, 2, 5, 0, 3, 4]}) 2) Create a DatetimeIndex that contains each business day of 2015 and use it to index a Series of random numbers. 3) Find the sum of the values in s for every Wednesday 4) Average For each calendar month 5) For each group of four consecutive calendar months in s, find the date on which the highest value occurred."
   ]
  },
  {
   "cell_type": "code",
   "execution_count": 13,
   "metadata": {},
   "outputs": [],
   "source": [
    "import pandas as pd\n",
    "import numpy as np"
   ]
  },
  {
   "cell_type": "code",
   "execution_count": 14,
   "metadata": {},
   "outputs": [],
   "source": [
    "df = pd.DataFrame({'X': [7, 2, 0, 3, 4, 2, 5, 0, 3, 4]})"
   ]
  },
  {
   "cell_type": "code",
   "execution_count": 15,
   "metadata": {},
   "outputs": [],
   "source": [
    "x = (df['X'] != 0).cumsum()\n",
    "y = x != x.shift()\n",
    "df['Y'] = y.groupby((y != y.shift()).cumsum()).cumsum()"
   ]
  },
  {
   "cell_type": "code",
   "execution_count": 16,
   "metadata": {},
   "outputs": [
    {
     "data": {
      "text/html": [
       "<div>\n",
       "<style scoped>\n",
       "    .dataframe tbody tr th:only-of-type {\n",
       "        vertical-align: middle;\n",
       "    }\n",
       "\n",
       "    .dataframe tbody tr th {\n",
       "        vertical-align: top;\n",
       "    }\n",
       "\n",
       "    .dataframe thead th {\n",
       "        text-align: right;\n",
       "    }\n",
       "</style>\n",
       "<table border=\"1\" class=\"dataframe\">\n",
       "  <thead>\n",
       "    <tr style=\"text-align: right;\">\n",
       "      <th></th>\n",
       "      <th>X</th>\n",
       "      <th>Y</th>\n",
       "    </tr>\n",
       "  </thead>\n",
       "  <tbody>\n",
       "    <tr>\n",
       "      <th>0</th>\n",
       "      <td>7</td>\n",
       "      <td>1.0</td>\n",
       "    </tr>\n",
       "    <tr>\n",
       "      <th>1</th>\n",
       "      <td>2</td>\n",
       "      <td>2.0</td>\n",
       "    </tr>\n",
       "    <tr>\n",
       "      <th>2</th>\n",
       "      <td>0</td>\n",
       "      <td>0.0</td>\n",
       "    </tr>\n",
       "    <tr>\n",
       "      <th>3</th>\n",
       "      <td>3</td>\n",
       "      <td>1.0</td>\n",
       "    </tr>\n",
       "    <tr>\n",
       "      <th>4</th>\n",
       "      <td>4</td>\n",
       "      <td>2.0</td>\n",
       "    </tr>\n",
       "    <tr>\n",
       "      <th>5</th>\n",
       "      <td>2</td>\n",
       "      <td>3.0</td>\n",
       "    </tr>\n",
       "    <tr>\n",
       "      <th>6</th>\n",
       "      <td>5</td>\n",
       "      <td>4.0</td>\n",
       "    </tr>\n",
       "    <tr>\n",
       "      <th>7</th>\n",
       "      <td>0</td>\n",
       "      <td>0.0</td>\n",
       "    </tr>\n",
       "    <tr>\n",
       "      <th>8</th>\n",
       "      <td>3</td>\n",
       "      <td>1.0</td>\n",
       "    </tr>\n",
       "    <tr>\n",
       "      <th>9</th>\n",
       "      <td>4</td>\n",
       "      <td>2.0</td>\n",
       "    </tr>\n",
       "  </tbody>\n",
       "</table>\n",
       "</div>"
      ],
      "text/plain": [
       "   X    Y\n",
       "0  7  1.0\n",
       "1  2  2.0\n",
       "2  0  0.0\n",
       "3  3  1.0\n",
       "4  4  2.0\n",
       "5  2  3.0\n",
       "6  5  4.0\n",
       "7  0  0.0\n",
       "8  3  1.0\n",
       "9  4  2.0"
      ]
     },
     "execution_count": 16,
     "metadata": {},
     "output_type": "execute_result"
    }
   ],
   "source": [
    "df"
   ]
  },
  {
   "cell_type": "code",
   "execution_count": 17,
   "metadata": {},
   "outputs": [],
   "source": [
    "datetimeindex = pd.date_range(start='2015-01-01', end='2015-12-31')\n",
    "s = pd.Series(np.random.rand(len(datetimeindex)),index=datetimeindex)"
   ]
  },
  {
   "cell_type": "code",
   "execution_count": 18,
   "metadata": {},
   "outputs": [
    {
     "data": {
      "text/plain": [
       "2015-01-01    0.981594\n",
       "2015-01-02    0.872131\n",
       "2015-01-03    0.480820\n",
       "2015-01-04    0.825251\n",
       "2015-01-05    0.895584\n",
       "2015-01-06    0.521420\n",
       "2015-01-07    0.030803\n",
       "2015-01-08    0.673314\n",
       "2015-01-09    0.443272\n",
       "2015-01-10    0.964974\n",
       "2015-01-11    0.546572\n",
       "2015-01-12    0.250579\n",
       "2015-01-13    0.929738\n",
       "2015-01-14    0.582078\n",
       "2015-01-15    0.647812\n",
       "2015-01-16    0.227269\n",
       "2015-01-17    0.875721\n",
       "2015-01-18    0.096218\n",
       "2015-01-19    0.502582\n",
       "2015-01-20    0.242506\n",
       "2015-01-21    0.056833\n",
       "2015-01-22    0.383213\n",
       "2015-01-23    0.506663\n",
       "2015-01-24    0.252040\n",
       "2015-01-25    0.986956\n",
       "2015-01-26    0.051434\n",
       "2015-01-27    0.811503\n",
       "2015-01-28    0.642496\n",
       "2015-01-29    0.682977\n",
       "2015-01-30    0.527746\n",
       "                ...   \n",
       "2015-12-02    0.090004\n",
       "2015-12-03    0.610403\n",
       "2015-12-04    0.791111\n",
       "2015-12-05    0.338927\n",
       "2015-12-06    0.267674\n",
       "2015-12-07    0.292079\n",
       "2015-12-08    0.209317\n",
       "2015-12-09    0.302025\n",
       "2015-12-10    0.579105\n",
       "2015-12-11    0.923215\n",
       "2015-12-12    0.491072\n",
       "2015-12-13    0.039110\n",
       "2015-12-14    0.482805\n",
       "2015-12-15    0.498851\n",
       "2015-12-16    0.407830\n",
       "2015-12-17    0.305060\n",
       "2015-12-18    0.527049\n",
       "2015-12-19    0.532637\n",
       "2015-12-20    0.989894\n",
       "2015-12-21    0.037596\n",
       "2015-12-22    0.694951\n",
       "2015-12-23    0.960446\n",
       "2015-12-24    0.335545\n",
       "2015-12-25    0.316726\n",
       "2015-12-26    0.091900\n",
       "2015-12-27    0.029972\n",
       "2015-12-28    0.508923\n",
       "2015-12-29    0.558426\n",
       "2015-12-30    0.038540\n",
       "2015-12-31    0.900507\n",
       "Freq: D, Length: 365, dtype: float64"
      ]
     },
     "execution_count": 18,
     "metadata": {},
     "output_type": "execute_result"
    }
   ],
   "source": [
    "s"
   ]
  },
  {
   "cell_type": "code",
   "execution_count": 19,
   "metadata": {},
   "outputs": [
    {
     "data": {
      "text/plain": [
       "19.347095830484065"
      ]
     },
     "execution_count": 19,
     "metadata": {},
     "output_type": "execute_result"
    }
   ],
   "source": [
    "s[datetimeindex.weekday_name == 'Wednesday'].sum()"
   ]
  },
  {
   "cell_type": "code",
   "execution_count": 20,
   "metadata": {},
   "outputs": [
    {
     "data": {
      "text/plain": [
       "2015-01-31    0.532208\n",
       "2015-02-28    0.461296\n",
       "2015-03-31    0.557961\n",
       "2015-04-30    0.480366\n",
       "2015-05-31    0.436775\n",
       "2015-06-30    0.544339\n",
       "2015-07-31    0.488759\n",
       "2015-08-31    0.424274\n",
       "2015-09-30    0.466168\n",
       "2015-10-31    0.522032\n",
       "2015-11-30    0.464522\n",
       "2015-12-31    0.424684\n",
       "Freq: M, dtype: float64"
      ]
     },
     "execution_count": 20,
     "metadata": {},
     "output_type": "execute_result"
    }
   ],
   "source": [
    "s.groupby(pd.Grouper(freq='M')).mean()\n"
   ]
  },
  {
   "cell_type": "code",
   "execution_count": 21,
   "metadata": {},
   "outputs": [
    {
     "data": {
      "text/plain": [
       "2015-01-31    0.986956\n",
       "2015-05-31    0.996479\n",
       "2015-09-30    0.990592\n",
       "2016-01-31    0.999680\n",
       "dtype: float64"
      ]
     },
     "execution_count": 21,
     "metadata": {},
     "output_type": "execute_result"
    }
   ],
   "source": [
    "s.groupby(pd.Grouper(freq='4M')).max()\n"
   ]
  },
  {
   "cell_type": "code",
   "execution_count": null,
   "metadata": {},
   "outputs": [],
   "source": []
  },
  {
   "cell_type": "code",
   "execution_count": null,
   "metadata": {},
   "outputs": [],
   "source": []
  }
 ],
 "metadata": {
  "kernelspec": {
   "display_name": "Python 3",
   "language": "python",
   "name": "python3"
  },
  "language_info": {
   "codemirror_mode": {
    "name": "ipython",
    "version": 3
   },
   "file_extension": ".py",
   "mimetype": "text/x-python",
   "name": "python",
   "nbconvert_exporter": "python",
   "pygments_lexer": "ipython3",
   "version": "3.7.0"
  }
 },
 "nbformat": 4,
 "nbformat_minor": 2
}
